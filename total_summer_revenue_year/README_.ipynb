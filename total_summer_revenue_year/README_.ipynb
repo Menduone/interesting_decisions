{
 "cells": [
  {
   "cell_type": "markdown",
   "id": "fbbb7d98",
   "metadata": {},
   "source": [
    "# Самая прибыльная общая выручка за лето\n",
    "\n",
    "___\n",
    "\n",
    "\n",
    "Нас просят определить, летом какого года общая выручка в магазине была максимальной. После выгрузить данные за этот год по странам:\n",
    "`country` — название страны;\n",
    "`total_invoice` — число заказов, оформленных в этой стране в тот год, когда общая выручка за лето была максимальной;\n",
    "`total_customer` — число клиентов, зарегистрированных в этой стране.\n",
    "\n",
    "\n",
    "Нужно отсортировать таблицу по убыванию значений в поле `total_invoice`, а затем добавьте сортировку по названию страны в лексикографическом порядке.\n",
    "\n",
    "___\n",
    "\n",
    "## Стек/инструменты\n",
    "\n",
    "\n",
    "```sql\n",
    "inner join\n",
    "sum, count\n",
    "where\n",
    "order by\n",
    "limit\n",
    "```"
   ]
  }
 ],
 "metadata": {
  "kernelspec": {
   "display_name": "Python 3 (ipykernel)",
   "language": "python",
   "name": "python3"
  },
  "language_info": {
   "codemirror_mode": {
    "name": "ipython",
    "version": 3
   },
   "file_extension": ".py",
   "mimetype": "text/x-python",
   "name": "python",
   "nbconvert_exporter": "python",
   "pygments_lexer": "ipython3",
   "version": "3.9.7"
  }
 },
 "nbformat": 4,
 "nbformat_minor": 5
}

**источник** задачи: (https://practicum.yandex.ru/)
